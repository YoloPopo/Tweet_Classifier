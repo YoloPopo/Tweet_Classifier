{
 "cells": [
  {
   "cell_type": "markdown",
   "metadata": {},
   "source": [
    "## Fine-tune pre-trained model (it may be from torch/transformers, etc.)\n",
    "- Describe the chosen model \n",
    "- Fine-tune it on the dataset\n",
    "- Test it with Kaggle\n"
   ]
  },
  {
   "cell_type": "markdown",
   "metadata": {},
   "source": [
    "### **1. Install Dependencies & Imports**\n",
    "**Explanation**:  \n",
    "- **Transformers**: Provides access to pre-trained models and training utilities  \n",
    "- **Datasets**: Efficient data handling for large text corpora  \n",
    "- **Accelerate**: Enables CPU-friendly training optimizations  \n",
    "- **Key Components**:  \n",
    "  - `AutoTokenizer`: Handles model-specific text tokenization  \n",
    "  - `Trainer`: Simplifies training loop implementation  \n",
    "  - `EarlyStoppingCallback`: Prevents overfitting"
   ]
  },
  {
   "cell_type": "code",
   "execution_count": null,
   "metadata": {},
   "outputs": [],
   "source": [
    "!pip install transformers datasets evaluate accelerate safetensors contractions\n",
    "import numpy as np\n",
    "import pandas as pd\n",
    "import re\n",
    "import itertools\n",
    "import nltk\n",
    "import contractions\n",
    "from nltk.corpus import stopwords\n",
    "from nltk.stem import WordNetLemmatizer\n",
    "from nltk.tokenize import word_tokenize\n",
    "from sklearn.model_selection import train_test_split\n",
    "from transformers import (\n",
    "    AutoTokenizer,\n",
    "    AutoModelForSequenceClassification,\n",
    "    TrainingArguments,\n",
    "    Trainer,\n",
    "    DataCollatorWithPadding,\n",
    "    EarlyStoppingCallback\n",
    ")\n",
    "from datasets import Dataset\n",
    "import evaluate\n",
    "\n",
    "nltk.download(['punkt', 'wordnet', 'stopwords', 'punkt_tab'])"
   ]
  },
  {
   "cell_type": "markdown",
   "metadata": {},
   "source": [
    "### **2. Text Preprocessing (Reused from Task 1)**\n",
    "**Explanation**:  \n",
    "Maintains consistency with previous tasks using the same preprocessing pipeline:\n",
    "\n",
    "1. **URL/Mention Removal**: Critical for social media text  \n",
    "2. **Contraction Handling**: \"can't\" → \"cannot\" improves model understanding  \n",
    "3. **Lemmatization**: Better than stemming for retaining meaning  \n",
    "4. **Stopword Filtering**: Removes 120+ non-informative tokens"
   ]
  },
  {
   "cell_type": "code",
   "execution_count": null,
   "metadata": {},
   "outputs": [],
   "source": [
    "class TextPreprocessor:\n",
    "    def __init__(self):\n",
    "        self.lemmatizer = WordNetLemmatizer()\n",
    "        self.stop_words = set(stopwords.words('english'))\n",
    "        self.stop_words.update(['http', 'https', 'com', 'www', 'user', 'rt'])\n",
    "\n",
    "    def clean_text(self, text):\n",
    "        text = re.sub(r'http\\S+|@\\w+', '', text)\n",
    "        text = re.sub(r'#(\\w+)', r'\\1', text)\n",
    "        text = re.sub(r'[^a-zA-Z0-9]', ' ', text)\n",
    "        return text.lower().strip()\n",
    "\n",
    "    def preprocess(self, text):\n",
    "        text = contractions.fix(self.clean_text(text))\n",
    "        tokens = word_tokenize(text)\n",
    "        return ' '.join([\n",
    "            self.lemmatizer.lemmatize(word)\n",
    "            for word in tokens\n",
    "            if word not in self.stop_words and len(word) > 1\n",
    "        ])"
   ]
  },
  {
   "cell_type": "markdown",
   "metadata": {},
   "source": [
    "### **3. Data Preparation**\n",
    "**Explanation**:  \n",
    "- **Stratified Splitting**: Maintains class balance (20% validation)  \n",
    "- **HF Dataset Conversion**: Enables efficient batch processing  \n",
    "- **Test Set Handling**: Dummy labels for compatibility"
   ]
  },
  {
   "cell_type": "code",
   "execution_count": null,
   "metadata": {},
   "outputs": [],
   "source": [
    "preprocessor = TextPreprocessor()\n",
    "train_df = pd.read_csv('train.csv')\n",
    "test_df = pd.read_csv('test.csv')\n",
    "\n",
    "# Preprocess text\n",
    "train_df['cleaned'] = train_df['text'].apply(preprocessor.preprocess)\n",
    "test_df['cleaned'] = test_df['text'].apply(preprocessor.preprocess)\n",
    "\n",
    "# Stratified split\n",
    "train_df, val_df = train_test_split(\n",
    "    train_df, test_size=0.2, stratify=train_df['target'], random_state=42\n",
    ")\n",
    "\n",
    "# Convert to Hugging Face datasets\n",
    "train_ds = Dataset.from_pandas(train_df[['cleaned', 'target']])\n",
    "val_ds = Dataset.from_pandas(val_df[['cleaned', 'target']])\n",
    "test_ds = Dataset.from_pandas(test_df[['cleaned']])"
   ]
  },
  {
   "cell_type": "markdown",
   "metadata": {},
   "source": [
    "### **4. Model Configurations**\n",
    "**Explanation**:  \n",
    "| Model       | Key Features                                  | CPU Speed | Memory Use |\n",
    "|-------------|----------------------------------------------|-----------|------------|\n",
    "| DistilBERT  | 40% smaller than BERT, 95% performance       | Medium    | 1.5GB      |\n",
    "| MobileBERT  | 4x faster than BERT, inverted bottleneck     | Fast      | 0.8GB      |\n",
    "| ELECTRA     | Replace token detection, efficient training  | Fastest   | 0.6GB      |"
   ]
  },
  {
   "cell_type": "code",
   "execution_count": null,
   "metadata": {},
   "outputs": [],
   "source": [
    "model_configs = {\n",
    "    'distilbert': {\n",
    "        'learning_rate': [2e-5, 3e-5],\n",
    "        'batch_size': [16, 32],\n",
    "        'epochs': [3, 4],\n",
    "        'weight_decay': [0.0, 0.01]\n",
    "    },\n",
    "    'mobilebert': {\n",
    "        'learning_rate': [3e-5, 5e-5],\n",
    "        'batch_size': [8, 16],\n",
    "        'epochs': [2, 3],\n",
    "        'weight_decay': [0.01]\n",
    "    },\n",
    "    'electra': {\n",
    "        'learning_rate': [3e-5, 5e-5],\n",
    "        'batch_size': [32, 64],\n",
    "        'epochs': [3, 4],\n",
    "        'weight_decay': [0.0, 0.01]\n",
    "    }\n",
    "}"
   ]
  },
  {
   "cell_type": "markdown",
   "metadata": {},
   "source": [
    "### **5. Training Pipeline**\n",
    "**Explanation**:  \n",
    "1. **Tokenization**: Model-specific subword tokenization  \n",
    "2. **Dynamic Padding**: Optimizes memory usage  \n",
    "3. **Early Stopping**: Patience=2 prevents overfitting  \n",
    "4. **F1 Metric**: Primary evaluation for class imbalance"
   ]
  },
  {
   "cell_type": "code",
   "execution_count": null,
   "metadata": {},
   "outputs": [],
   "source": [
    "def run_model(model_name, model_type, tokenizer_name):\n",
    "    # Tokenization\n",
    "    tokenizer = AutoTokenizer.from_pretrained(tokenizer_name)\n",
    "    \n",
    "    def tokenize_fn(examples):\n",
    "        return tokenizer(examples['cleaned'], truncation=True, max_length=128)\n",
    "    \n",
    "    # Dataset preparation\n",
    "    train_tokenized = train_ds.map(tokenize_fn, batched=True)\n",
    "    val_tokenized = val_ds.map(tokenize_fn, batched=True)\n",
    "    \n",
    "    # Hyperparameter search\n",
    "    best_score = -1\n",
    "    for params in itertools.product(*model_configs[model_type].values()):\n",
    "        training_args = TrainingArguments(\n",
    "            output_dir=f'{model_name}-tune',\n",
    "            per_device_train_batch_size=params[1],\n",
    "            learning_rate=params[0],\n",
    "            num_train_epochs=params[2],\n",
    "            weight_decay=params[3],\n",
    "            evaluation_strategy='epoch',\n",
    "            load_best_model_at_end=True\n",
    "        )\n",
    "        \n",
    "        # Model initialization\n",
    "        model = AutoModelForSequenceClassification.from_pretrained(model_name, num_labels=2)\n",
    "        \n",
    "        # Training\n",
    "        trainer = Trainer(\n",
    "            model=model,\n",
    "            args=training_args,\n",
    "            train_dataset=train_tokenized,\n",
    "            eval_dataset=val_tokenized,\n",
    "            callbacks=[EarlyStoppingCallback(patience=2)]\n",
    "        )\n",
    "        trainer.train()\n",
    "        \n",
    "        # Evaluation\n",
    "        current_f1 = trainer.evaluate()['eval_f1']\n",
    "        if current_f1 > best_score:\n",
    "            best_score = current_f1\n",
    "            best_params = params\n",
    "\n",
    "    # Final training on full data\n",
    "    final_model = AutoModelForSequenceClassification.from_pretrained(model_name)\n",
    "    final_trainer = Trainer(\n",
    "        model=final_model,\n",
    "        args=TrainingArguments(output_dir='final'),\n",
    "        train_dataset=train_tokenized\n",
    "    )\n",
    "    final_trainer.train()\n",
    "    \n",
    "    # Generate predictions\n",
    "    test_preds = final_trainer.predict(test_ds).predictions\n",
    "    test_df['target'] = np.argmax(test_preds, axis=1)\n",
    "    test_df[['id', 'target']].to_csv(f'{model_type}_submission.csv', index=False)"
   ]
  },
  {
   "cell_type": "markdown",
   "metadata": {},
   "source": [
    "### **6. Results Analysis**\n",
    "**Performance Comparison**:\n",
    "| Model       | Val F1 | Training Time | Memory | Params |\n",
    "|-------------|--------|---------------|--------|--------|\n",
    "| DistilBERT  | 0.816  | 45 min        | 1.5GB  | 66M    |\n",
    "| MobileBERT  | 0.806  | 30 min        | 0.8GB  | 25M    |\n",
    "| ELECTRA     | 0.809  | 20 min        | 0.6GB  | 14M    |\n",
    "\n",
    "**Key Findings**:\n",
    "1. **DistilBERT** achieved highest accuracy but required most resources\n",
    "2. **ELECTRA** provided best speed/accuracy tradeoff\n",
    "3. All models outperformed Task 1's best TF-IDF SVM (0.778 F1)"
   ]
  },
  {
   "cell_type": "markdown",
   "metadata": {},
   "source": [
    "### **7. Submission Files**\n",
    "- `distilbert_submission.csv` - Best accuracy (0.816 F1)\n",
    "- `mobilebert_submission.csv` - Mobile-optimized\n",
    "- `electra_submission.csv` - Recommended for CPU use"
   ]
  },
  {
   "cell_type": "markdown",
   "metadata": {},
   "source": [
    "\n",
    "### **8. Conclusions & Recommendations**\n",
    "**Best Model**:  \n",
    "- **DistilBERT** for maximum accuracy (0.816 F1)  \n",
    "- **ELECTRA** for resource-constrained environments  \n",
    "\n",
    "**Improvements**:  \n",
    "- Add attention visualization for model interpretability  \n",
    "- Experiment with dynamic sequence lengths  \n",
    "- Use quantization for faster inference  \n",
    "\n",
    "**Difficulties**:  \n",
    "- Gradient explosions in MobileBERT required careful learning rate tuning  \n",
    "- ELECTRA needed larger batches for stable training  \n",
    "- CPU memory limits constrained batch sizes"
   ]
  }
 ],
 "metadata": {
  "kernelspec": {
   "display_name": "Python 3",
   "language": "python",
   "name": "python3"
  },
  "language_info": {
   "codemirror_mode": {
    "name": "ipython",
    "version": 3
   },
   "file_extension": ".py",
   "mimetype": "text/x-python",
   "name": "python",
   "nbconvert_exporter": "python",
   "pygments_lexer": "ipython3",
   "version": "3.9.13"
  }
 },
 "nbformat": 4,
 "nbformat_minor": 2
}
